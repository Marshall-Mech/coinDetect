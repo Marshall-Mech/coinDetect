{
 "cells": [
  {
   "cell_type": "markdown",
   "metadata": {},
   "source": [
    "# Importing packages"
   ]
  },
  {
   "cell_type": "code",
   "execution_count": 16,
   "metadata": {},
   "outputs": [
    {
     "name": "stdout",
     "output_type": "stream",
     "text": [
      "CV2 version used 4.2.0\n"
     ]
    }
   ],
   "source": [
    "import cv2\n",
    "import numpy as np\n",
    "import matplotlib.pyplot as plt\n",
    "\n",
    "print(f'CV2 version used {cv2.__version__}')"
   ]
  },
  {
   "cell_type": "markdown",
   "metadata": {},
   "source": [
    "# Choose the camera (URL or built-in)"
   ]
  },
  {
   "cell_type": "code",
   "execution_count": 17,
   "metadata": {},
   "outputs": [],
   "source": [
    "# Enter the URL for the camera\n",
    "url = 'http://192.168.0.106:1111/video'\n",
    "\n",
    "# IN-case of using built in camera, uncomment the next line\n",
    "#url = 0"
   ]
  },
  {
   "cell_type": "markdown",
   "metadata": {},
   "source": [
    "# Using [HoughCircles](https://opencv-python-tutroals.readthedocs.io/en/latest/py_tutorials/py_imgproc/py_houghcircles/py_houghcircles.html) to detect circles"
   ]
  },
  {
   "cell_type": "code",
   "execution_count": 24,
   "metadata": {},
   "outputs": [],
   "source": [
    "cap = cv2.VideoCapture(url)\n",
    "\n",
    "while(True):\n",
    "    \n",
    "    # Reading the camera and converting to blurred gray-scale image\n",
    "    _ , frame = cap.read()\n",
    "    gray_img = cv2.cvtColor(frame, cv2.COLOR_BGR2GRAY)\n",
    "    img = cv2.medianBlur(gray_img, 5)\n",
    "    cimg = cv2.cvtColor(img, cv2.COLOR_GRAY2BGR)\n",
    "    \n",
    "    try:\n",
    "        # Detecting the circles (change parameters as needed from link in title)\n",
    "        circles = cv2.HoughCircles(img,cv2.HOUGH_GRADIENT, 1, 100, param1=100, param2 = 30, minRadius = 25, maxRadius = 100)\n",
    "        circles = np.uint16(np.around(circles))\n",
    "\n",
    "        center = ''\n",
    "        for so, i in enumerate(circles[0,:]):\n",
    "            cv2.circle(frame,(i[0],i[1]),i[2],(0,0,255),5)\n",
    "            cv2.circle(frame,(i[0],i[1]),2,(0,0,255),2)\n",
    "            center += f'({i[0]},{i[1]}) '\n",
    "            cv2.putText(frame, str(so+1),(i[0]+5,i[1]-5),cv2.FONT_HERSHEY_SIMPLEX,0.5,(0,0,255))\n",
    "            \n",
    "\n",
    "        cv2.putText(frame, f'Number of circles: {len(circles[0])}',(0,550),cv2.FONT_HERSHEY_SIMPLEX,0.75,(0,0,0))\n",
    "        cv2.putText(frame, center,(0,580),cv2.FONT_HERSHEY_SIMPLEX,0.5,(0,0,0))\n",
    "        cv2.imshow('Original',frame)\n",
    "        if cv2.waitKey(1) & 0xFF == ord('q'):\n",
    "            break\n",
    "    except Exception as e:\n",
    "        cv2.putText(frame, f'No circles were detected try moving the coin in frame and perpendicular to the camera',(0,550),cv2.FONT_HERSHEY_SIMPLEX,0.5,(0,0,0))\n",
    "        cv2.imshow('Original',frame)\n",
    "        if cv2.waitKey(1) & 0xFF == ord('q'):\n",
    "            break\n",
    "        \n",
    "cap.release()\n",
    "cv2.destroyAllWindows()"
   ]
  },
  {
   "cell_type": "markdown",
   "metadata": {},
   "source": [
    "# Run in case of error to release the camera"
   ]
  },
  {
   "cell_type": "code",
   "execution_count": 10,
   "metadata": {},
   "outputs": [],
   "source": [
    "cap.release()\n",
    "cv2.destroyAllWindows()"
   ]
  },
  {
   "cell_type": "code",
   "execution_count": 25,
   "metadata": {},
   "outputs": [
    {
     "data": {
      "text/plain": [
       "True"
      ]
     },
     "execution_count": 25,
     "metadata": {},
     "output_type": "execute_result"
    }
   ],
   "source": [
    "# Write the last image if needed\n",
    "#cv2.imwrite('Final.jpeg',frame)"
   ]
  },
  {
   "cell_type": "code",
   "execution_count": null,
   "metadata": {},
   "outputs": [],
   "source": []
  }
 ],
 "metadata": {
  "kernelspec": {
   "display_name": "Python 3",
   "language": "python",
   "name": "python3"
  },
  "varInspector": {
   "cols": {
    "lenName": 16,
    "lenType": 16,
    "lenVar": 40
   },
   "kernels_config": {
    "python": {
     "delete_cmd_postfix": "",
     "delete_cmd_prefix": "del ",
     "library": "var_list.py",
     "varRefreshCmd": "print(var_dic_list())"
    },
    "r": {
     "delete_cmd_postfix": ") ",
     "delete_cmd_prefix": "rm(",
     "library": "var_list.r",
     "varRefreshCmd": "cat(var_dic_list()) "
    }
   },
   "types_to_exclude": [
    "module",
    "function",
    "builtin_function_or_method",
    "instance",
    "_Feature"
   ],
   "window_display": false
  }
 },
 "nbformat": 4,
 "nbformat_minor": 4
}
